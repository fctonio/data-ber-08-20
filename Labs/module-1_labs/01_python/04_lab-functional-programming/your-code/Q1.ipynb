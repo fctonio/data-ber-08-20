{
 "cells": [
  {
   "cell_type": "markdown",
   "metadata": {},
   "source": [
    "In the cell below, create a Python function that wraps your previous solution for the Bag of Words lab.\n",
    "\n",
    "Requirements:\n",
    "\n",
    "1. Your function should accept the following parameters:\n",
    "    * `docs` [REQUIRED] - array of document paths.\n",
    "    * `stop_words` [OPTIONAL] - array of stop words. The default value is an empty array.\n",
    "\n",
    "1. Your function should return a Python object that contains the following:\n",
    "    * `bag_of_words` - array of strings of normalized unique words in the corpus.\n",
    "    * `term_freq` - array of the term-frequency vectors."
   ]
  },
  {
   "cell_type": "code",
   "execution_count": 31,
   "metadata": {},
   "outputs": [],
   "source": [
    "# Import required libraries\n",
    "\n",
    "# Define function\n",
    "def get_bow_from_docs(docs, stop_words=[]):\n",
    "    \n",
    "    # In the function, first define the variables you will use such as `corpus`, `bag_of_words`, and `term_freq`.\n",
    "    \n",
    "    \n",
    "    \n",
    "    \"\"\"\n",
    "    Loop `docs` and read the content of each doc into a string in `corpus`.\n",
    "    Remember to convert the doc content to lowercases and remove punctuation.\n",
    "    \"\"\"\n",
    "    corpus = []\n",
    "    \n",
    "    for i in docs:\n",
    "        with open(i) as d: #With is needed to manage memory!!!!!\n",
    "            corpus.append(d.read())\n",
    "    \n",
    "    corpus = [i.replace('.', '').lower() for i in corpus]\n",
    "    \n",
    "    \"\"\"\n",
    "    Loop `corpus`. Append the terms in each doc into the `bag_of_words` array. The terms in `bag_of_words` \n",
    "    should be unique which means before adding each term you need to check if it's already added to the array.\n",
    "    In addition, check if each term is in the `stop_words` array. Only append the term to `bag_of_words`\n",
    "    if it is not a stop word.\n",
    "    \"\"\"\n",
    "\n",
    "    word_list = []\n",
    "    bag_of_words = []\n",
    "\n",
    "    for i in corpus:\n",
    "        word_list = i.split()\n",
    "        for word in word_list:\n",
    "            if word not in bag_of_words and word not in stop_words:\n",
    "                bag_of_words.append(word)\n",
    "\n",
    "    \n",
    "    \"\"\"\n",
    "    Loop `corpus` again. For each doc string, count the number of occurrences of each term in `bag_of_words`. \n",
    "    Create an array for each doc's term frequency and append it to `term_freq`.\n",
    "    \"\"\"\n",
    "    term_freq = []\n",
    "    \n",
    "    for i in corpus:\n",
    "        i = i.split()\n",
    "        term_freq_doc = []\n",
    "        for word in bag_of_words:\n",
    "            if word in i:\n",
    "                term_freq_doc.append('1')\n",
    "            else:\n",
    "                term_freq_doc.append('0')\n",
    "        term_freq.append(term_freq_doc)\n",
    "    \n",
    "    \n",
    "    \n",
    "    # Now return your output as an object\n",
    "    return {\n",
    "        \"bag_of_words\": bag_of_words,\n",
    "        \"term_freq\": term_freq\n",
    "    }\n",
    "    "
   ]
  },
  {
   "cell_type": "markdown",
   "metadata": {},
   "source": [
    "Test your function without stop words. You should see the output like below:\n",
    "\n",
    "```{'bag_of_words': ['ironhack', 'is', 'cool', 'i', 'love', 'am', 'a', 'student', 'at'], 'term_freq': [[1, 1, 1, 0, 0, 0, 0, 0, 0], [1, 0, 0, 1, 1, 0, 0, 0, 0], [1, 0, 0, 1, 0, 1, 1, 1, 1]]}```"
   ]
  },
  {
   "cell_type": "code",
   "execution_count": 32,
   "metadata": {},
   "outputs": [
    {
     "name": "stdout",
     "output_type": "stream",
     "text": [
      "{'bag_of_words': ['ironhack', 'is', 'cool', 'i', 'love', 'am', 'a', 'student', 'at'], 'term_freq': [['1', '1', '1', '0', '0', '0', '0', '0', '0'], ['1', '0', '0', '1', '1', '0', '0', '0', '0'], ['1', '0', '0', '1', '0', '1', '1', '1', '1']]}\n"
     ]
    }
   ],
   "source": [
    "# Define doc paths array\n",
    "docs = ['../../03_lab-string-operations/your-code/doc1.txt', \n",
    "        '../../03_lab-string-operations/your-code/doc2.txt',\n",
    "        '../../03_lab-string-operations/your-code/doc3.txt']\n",
    "\n",
    "# Obtain BoW from your function\n",
    "bow = get_bow_from_docs(docs)\n",
    "\n",
    "# Print BoW\n",
    "print(bow)"
   ]
  },
  {
   "cell_type": "markdown",
   "metadata": {},
   "source": [
    "If your attempt above is successful, nice work done!\n",
    "\n",
    "Now test your function again with the stop words. In the previous lab we defined the stop words in a large array. In this lab, we'll import the stop words from Scikit-Learn."
   ]
  },
  {
   "cell_type": "code",
   "execution_count": 33,
   "metadata": {},
   "outputs": [
    {
     "name": "stdout",
     "output_type": "stream",
     "text": [
      "frozenset({'get', 'to', 'is', 'yourself', 're', 'about', 'nor', 'i', 'without', 'no', 'whereupon', 'mostly', 'has', 'hereafter', 'ever', 'thereby', 'couldnt', 'whatever', 'over', 'of', 'being', 'own', 'by', 'again', 'some', 'amoungst', 'such', 'few', 'somehow', 'itself', 'see', 'as', 'hasnt', 'my', 'ie', 'be', 'becomes', 'whoever', 'amount', 'un', 'seem', 'were', 'whither', 'everyone', 'towards', 'must', 'therein', 'who', 'thereupon', 'so', 'in', 'third', 'take', 'somewhere', 'twenty', 'became', 'its', 'herself', 'would', 'nine', 'thick', 'thence', 'now', 'anyone', 'ourselves', 'whom', 'there', 'cannot', 'full', 'onto', 'hence', 'until', 'me', 'these', 'everything', 'anyway', 'becoming', 'find', 'here', 'describe', 'your', 'via', 'seemed', 'us', 'below', 'side', 'inc', 'everywhere', 'rather', 'two', 'neither', 'during', 'yet', 'off', 'been', 'often', 'hundred', 'de', 'seems', 'after', 'whence', 'noone', 'someone', 'hereby', 'which', 'become', 'myself', 'moreover', 'meanwhile', 'with', 'when', 'her', 'very', 'forty', 'thereafter', 'cant', 'am', 'will', 'name', 'might', 'together', 'one', 'across', 'besides', 'seeming', 'a', 'enough', 'made', 'give', 'twelve', 'thus', 'them', 'whereafter', 'those', 'all', 'though', 'eg', 'afterwards', 'show', 'for', 'why', 'behind', 'they', 'front', 'or', 'otherwise', 'less', 'hereupon', 'always', 'least', 'ten', 'first', 'anyhow', 'other', 'same', 'yours', 'sincere', 'never', 'detail', 'throughout', 'was', 'fifteen', 'although', 'and', 'around', 'if', 'from', 'more', 'you', 'fifty', 'whole', 'ours', 'empty', 'wherever', 'him', 'most', 'therefore', 'anywhere', 'upon', 'but', 'any', 'amongst', 'others', 'while', 'five', 'his', 'back', 'former', 'latter', 'once', 'nobody', 'per', 'whereby', 'further', 'sometime', 'except', 'may', 'due', 'along', 'than', 'none', 'system', 'that', 'bill', 'since', 'many', 'fill', 'then', 'go', 'beside', 'under', 'done', 'con', 'eight', 'found', 'above', 'cry', 'keep', 'interest', 'ltd', 'should', 'several', 'between', 'four', 'are', 'this', 'almost', 'have', 'only', 'already', 'it', 'put', 'through', 'too', 'toward', 'top', 'serious', 'nowhere', 'down', 'next', 'formerly', 'call', 'three', 'the', 'herein', 'mill', 'we', 'can', 'had', 'perhaps', 'elsewhere', 'whose', 'alone', 'because', 'what', 'move', 'nothing', 'eleven', 'also', 'part', 'even', 'sometimes', 'whereas', 'not', 'before', 'indeed', 'among', 'wherein', 'whether', 'thru', 'thin', 'every', 'hers', 'please', 'their', 'etc', 'something', 'sixty', 'anything', 'he', 'much', 'on', 'at', 'beyond', 'out', 'namely', 'where', 'themselves', 'up', 'could', 'she', 'how', 'six', 'last', 'whenever', 'both', 'against', 'however', 'still', 'else', 'an', 'our', 'bottom', 'either', 'within', 'well', 'another', 'fire', 'do', 'each', 'mine', 'yourselves', 'into', 'beforehand', 'co', 'latterly', 'nevertheless', 'himself'})\n"
     ]
    }
   ],
   "source": [
    "from sklearn.feature_extraction import stop_words\n",
    "print(stop_words.ENGLISH_STOP_WORDS)"
   ]
  },
  {
   "cell_type": "markdown",
   "metadata": {},
   "source": [
    "You should have seen a large list of words that looks like:\n",
    "\n",
    "```frozenset({'across', 'mine', 'cannot', ...})```\n",
    "\n",
    "`frozenset` is a type of Python object that is immutable. In this lab you can use it just like an array without conversion."
   ]
  },
  {
   "cell_type": "markdown",
   "metadata": {},
   "source": [
    "Next, test your function with supplying `stop_words.ENGLISH_STOP_WORDS` as the second parameter."
   ]
  },
  {
   "cell_type": "code",
   "execution_count": 34,
   "metadata": {},
   "outputs": [
    {
     "name": "stdout",
     "output_type": "stream",
     "text": [
      "{'bag_of_words': ['ironhack', 'cool', 'love', 'student'], 'term_freq': [['1', '1', '0', '0'], ['1', '0', '1', '0'], ['1', '0', '0', '1']]}\n"
     ]
    }
   ],
   "source": [
    "bow = get_bow_from_docs(docs, stop_words.ENGLISH_STOP_WORDS)\n",
    "\n",
    "print(bow)"
   ]
  },
  {
   "cell_type": "markdown",
   "metadata": {},
   "source": [
    "You should have seen:\n",
    "\n",
    "```{'bag_of_words': ['ironhack', 'cool', 'love', 'student'], 'term_freq': [[1, 1, 0, 0], [1, 0, 1, 0], [1, 0, 0, 1]]}```"
   ]
  },
  {
   "cell_type": "code",
   "execution_count": null,
   "metadata": {},
   "outputs": [],
   "source": []
  }
 ],
 "metadata": {
  "kernelspec": {
   "display_name": "Python 3",
   "language": "python",
   "name": "python3"
  },
  "language_info": {
   "codemirror_mode": {
    "name": "ipython",
    "version": 3
   },
   "file_extension": ".py",
   "mimetype": "text/x-python",
   "name": "python",
   "nbconvert_exporter": "python",
   "pygments_lexer": "ipython3",
   "version": "3.8.5"
  }
 },
 "nbformat": 4,
 "nbformat_minor": 4
}
